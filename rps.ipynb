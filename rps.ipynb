{
 "cells": [
  {
   "cell_type": "code",
   "execution_count": 2,
   "metadata": {},
   "outputs": [
    {
     "name": "stdout",
     "output_type": "stream",
     "text": [
      "WARNING:tensorflow:From c:\\Users\\HP\\AppData\\Local\\Programs\\Python\\Python39\\lib\\site-packages\\keras\\src\\losses.py:2976: The name tf.losses.sparse_softmax_cross_entropy is deprecated. Please use tf.compat.v1.losses.sparse_softmax_cross_entropy instead.\n",
      "\n"
     ]
    }
   ],
   "source": [
    "import cv2\n",
    "from keras.models import load_model\n",
    "import numpy as np\n",
    "import random"
   ]
  },
  {
   "cell_type": "code",
   "execution_count": 12,
   "metadata": {},
   "outputs": [],
   "source": [
    "cpu_choice = random.choice([\"rock\", \"paper\", \"scissors\"])\n",
    "player_choice = \"\"\n",
    "\n",
    "model = load_model(\"rps_model.h5\")"
   ]
  },
  {
   "cell_type": "code",
   "execution_count": 24,
   "metadata": {},
   "outputs": [
    {
     "name": "stdout",
     "output_type": "stream",
     "text": [
      "1/1 [==============================] - 0s 69ms/step\n",
      "ESC to proceed\n",
      "SPACE to change the decision\n",
      "Escape hit, closing...\n",
      "==========\n",
      "[0.7059918  0.00537309 0.2886351 ]\n",
      "==========\n",
      "\n",
      "Player: paper\n",
      "Computer: scissors\n",
      "Computer wins\n"
     ]
    }
   ],
   "source": [
    "cam = cv2.VideoCapture(0)\n",
    "\n",
    "cv2.namedWindow(\"Rock Paper Scissors\")\n",
    "\n",
    "while True:\n",
    "    ret, frame = cam.read()\n",
    "    if not ret:\n",
    "        print(\"failed to grab frame\")\n",
    "        break\n",
    "    \n",
    "    cv2.rectangle(frame, (100, 100), (300, 300), (255, 255, 255), 2)\n",
    "    cv2.putText(frame, \"SPACE to decide\", (40, 40), cv2.FONT_HERSHEY_SIMPLEX, 1, color=(255, 255, 255))\n",
    "    cv2.putText(frame, \"After deciding, ESC to proceed\", (40, 70), cv2.FONT_HERSHEY_SIMPLEX, 1, color=(255, 255, 255))\n",
    "    cv2.imshow(\"test\", frame)\n",
    "\n",
    "    key = cv2.waitKey(1)\n",
    "    if key%256 == 27:\n",
    "        # ESC pressed\n",
    "        print(\"Escape hit, closing...\")\n",
    "        break\n",
    "    elif key%256 == 32:\n",
    "        # SPACE pressed\n",
    "        prediction_image = frame[100:300, 100:300]\n",
    "        \n",
    "        prediction_image = cv2.resize(prediction_image, (150, 150))\n",
    "        \n",
    "        prediction_image = np.array(prediction_image)\n",
    "        prediction_image = np.expand_dims(prediction_image, axis=0)\n",
    "        prediction_image = prediction_image.astype(\"float32\")/255.0\n",
    "        \n",
    "        prediction = model.predict(prediction_image)[0]\n",
    "        \n",
    "        index = np.argmax(prediction)\n",
    "        if index == 0:\n",
    "            player_choice = \"paper\"\n",
    "        elif index == 1:\n",
    "            player_choice = \"rock\"\n",
    "        elif index == 2:\n",
    "            player_choice = \"scissors\"\n",
    "        \n",
    "        print(\"ESC to proceed\")\n",
    "        print(\"SPACE to change the decision\")\n",
    "        \n",
    "        # img_name = \"opencv_frame_{}.png\".format(img_counter)\n",
    "        # cv2.imwrite(img_name, frame)\n",
    "        # print(\"{} written!\".format(img_name))\n",
    "        # img_counter += 1\n",
    "\n",
    "cam.release()\n",
    "\n",
    "cv2.destroyAllWindows()\n",
    "\n",
    "print(\"=\"*10)\n",
    "print(prediction)\n",
    "print(\"=\"*10)\n",
    "print()\n",
    "print(f\"Player: {player_choice}\\nComputer: {cpu_choice}\")\n",
    "if player_choice == cpu_choice:\n",
    "    print(\"Tie\")\n",
    "else:\n",
    "    if player_choice == \"rock\":\n",
    "        if cpu_choice == \"paper\":\n",
    "            print(\"Computer wins\")\n",
    "        elif cpu_choice == \"scissors\":\n",
    "            print(\"Player wins\")\n",
    "    elif player_choice == \"paper\":\n",
    "        if cpu_choice == \"scissors\":\n",
    "            print(\"Computer wins\")\n",
    "        elif cpu_choice == \"rock\":\n",
    "            print(\"Player wins\")\n",
    "    elif player_choice == \"scissors\":\n",
    "        if cpu_choice == \"rock\":\n",
    "            print(\"Computer wins\")\n",
    "        elif cpu_choice == \"paper\":\n",
    "            print(\"Player wins!\")\n"
   ]
  },
  {
   "cell_type": "code",
   "execution_count": null,
   "metadata": {},
   "outputs": [],
   "source": []
  }
 ],
 "metadata": {
  "kernelspec": {
   "display_name": "Python 3",
   "language": "python",
   "name": "python3"
  },
  "language_info": {
   "codemirror_mode": {
    "name": "ipython",
    "version": 3
   },
   "file_extension": ".py",
   "mimetype": "text/x-python",
   "name": "python",
   "nbconvert_exporter": "python",
   "pygments_lexer": "ipython3",
   "version": "3.9.7"
  }
 },
 "nbformat": 4,
 "nbformat_minor": 2
}
